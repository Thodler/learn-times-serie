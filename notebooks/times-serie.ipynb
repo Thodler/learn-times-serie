{
 "cells": [
  {
   "cell_type": "code",
   "execution_count": 3,
   "id": "c6ba4f0d",
   "metadata": {},
   "outputs": [],
   "source": [
    "import sys\n",
    "import os\n",
    "sys.path.append(os.path.abspath(os.path.join(os.getcwd(), '..')))"
   ]
  },
  {
   "cell_type": "code",
   "execution_count": 4,
   "id": "832195c2",
   "metadata": {},
   "outputs": [],
   "source": [
    "from services.SQLiteService import SQLiteService\n",
    "\n",
    "database = SQLiteService()\n",
    "database.connect()\n",
    "data = database.select_data()"
   ]
  },
  {
   "cell_type": "code",
   "execution_count": 5,
   "id": "0a7dc5fd",
   "metadata": {},
   "outputs": [
    {
     "name": "stdout",
     "output_type": "stream",
     "text": [
      "temperature    float64\n",
      "dtype: object\n"
     ]
    }
   ],
   "source": [
    "import pandas as pd\n",
    "from datetime import datetime\n",
    "\n",
    "# Conversion en DataFrame\n",
    "df = pd.DataFrame(data)\n",
    "\n",
    "# Conversion de la colonne datetime en type datetime\n",
    "df['datetime'] = pd.to_datetime(df['datetime'], format='%Y-%m-%dT%H:%M')\n",
    "\n",
    "# Définition de l'index temporel\n",
    "df = df.set_index('datetime').sort_index()\n",
    "\n",
    "# Vérification des types\n",
    "print(df.dtypes)"
   ]
  },
  {
   "cell_type": "code",
   "execution_count": 6,
   "id": "3497e140",
   "metadata": {},
   "outputs": [
    {
     "data": {
      "text/html": [
       "<div>\n",
       "<style scoped>\n",
       "    .dataframe tbody tr th:only-of-type {\n",
       "        vertical-align: middle;\n",
       "    }\n",
       "\n",
       "    .dataframe tbody tr th {\n",
       "        vertical-align: top;\n",
       "    }\n",
       "\n",
       "    .dataframe thead th {\n",
       "        text-align: right;\n",
       "    }\n",
       "</style>\n",
       "<table border=\"1\" class=\"dataframe\">\n",
       "  <thead>\n",
       "    <tr style=\"text-align: right;\">\n",
       "      <th></th>\n",
       "      <th>temperature</th>\n",
       "    </tr>\n",
       "    <tr>\n",
       "      <th>datetime</th>\n",
       "      <th></th>\n",
       "    </tr>\n",
       "  </thead>\n",
       "  <tbody>\n",
       "    <tr>\n",
       "      <th>2025-01-01 00:00:00</th>\n",
       "      <td>0.8</td>\n",
       "    </tr>\n",
       "    <tr>\n",
       "      <th>2025-01-01 01:00:00</th>\n",
       "      <td>2.1</td>\n",
       "    </tr>\n",
       "    <tr>\n",
       "      <th>2025-01-01 02:00:00</th>\n",
       "      <td>2.6</td>\n",
       "    </tr>\n",
       "    <tr>\n",
       "      <th>2025-01-01 03:00:00</th>\n",
       "      <td>3.1</td>\n",
       "    </tr>\n",
       "    <tr>\n",
       "      <th>2025-01-01 04:00:00</th>\n",
       "      <td>3.6</td>\n",
       "    </tr>\n",
       "  </tbody>\n",
       "</table>\n",
       "</div>"
      ],
      "text/plain": [
       "                     temperature\n",
       "datetime                        \n",
       "2025-01-01 00:00:00          0.8\n",
       "2025-01-01 01:00:00          2.1\n",
       "2025-01-01 02:00:00          2.6\n",
       "2025-01-01 03:00:00          3.1\n",
       "2025-01-01 04:00:00          3.6"
      ]
     },
     "execution_count": 6,
     "metadata": {},
     "output_type": "execute_result"
    }
   ],
   "source": [
    "df.head()"
   ]
  }
 ],
 "metadata": {
  "kernelspec": {
   "display_name": "learn-times-serie",
   "language": "python",
   "name": "python3"
  },
  "language_info": {
   "codemirror_mode": {
    "name": "ipython",
    "version": 3
   },
   "file_extension": ".py",
   "mimetype": "text/x-python",
   "name": "python",
   "nbconvert_exporter": "python",
   "pygments_lexer": "ipython3",
   "version": "3.12.9"
  }
 },
 "nbformat": 4,
 "nbformat_minor": 5
}
